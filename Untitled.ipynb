{
 "cells": [
  {
   "cell_type": "code",
   "execution_count": null,
   "id": "fa70bf14-fe6d-4a59-8ad7-f8b22b605134",
   "metadata": {},
   "outputs": [],
   "source": [
    "write a program that print all the odd number from 1 to 20 using for loop"
   ]
  },
  {
   "cell_type": "code",
   "execution_count": 35,
   "id": "00d09c7f-1761-48ac-8d03-85f9e769808b",
   "metadata": {},
   "outputs": [
    {
     "name": "stdout",
     "output_type": "stream",
     "text": [
      "3\n",
      "4\n",
      "5\n",
      "6\n",
      "7\n",
      "8\n",
      "9\n",
      "10\n",
      "11\n",
      "12\n",
      "13\n",
      "14\n",
      "15\n",
      "16\n",
      "17\n",
      "18\n",
      "19\n",
      "20\n",
      "21\n"
     ]
    }
   ],
   "source": [
    "for i in range(1,20):\n",
    "    i=i+2\n",
    "    print(i)"
   ]
  }
 ],
 "metadata": {
  "kernelspec": {
   "display_name": "Python 3 (ipykernel)",
   "language": "python",
   "name": "python3"
  },
  "language_info": {
   "codemirror_mode": {
    "name": "ipython",
    "version": 3
   },
   "file_extension": ".py",
   "mimetype": "text/x-python",
   "name": "python",
   "nbconvert_exporter": "python",
   "pygments_lexer": "ipython3",
   "version": "3.11.4"
  }
 },
 "nbformat": 4,
 "nbformat_minor": 5
}
